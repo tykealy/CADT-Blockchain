{
  "cells": [
    {
      "cell_type": "code",
      "execution_count": null,
      "metadata": {
        "id": "QgTZqBrU1YRK"
      },
      "outputs": [],
      "source": []
    },
    {
      "cell_type": "markdown",
      "metadata": {
        "id": "f3atlQPS17q0"
      },
      "source": [
        "# Topic : Encryption, Decryption & Digital Signature"
      ]
    },
    {
      "cell_type": "markdown",
      "metadata": {
        "id": "bckpUiHD2Ghy"
      },
      "source": [
        "Group 5\n",
        "\n",
        "Team Member :\n",
        "\n",
        "Siek Chhengly\n",
        "saroun sakura\n",
        "ly tykea\n",
        "phin dara\n",
        "\n",
        "\n",
        "\n"
      ]
    },
    {
      "cell_type": "markdown",
      "metadata": {
        "id": "iSWEQ1ay2fRC"
      },
      "source": [
        "# Import Cryptography Library"
      ]
    },
    {
      "cell_type": "code",
      "execution_count": 1,
      "metadata": {
        "id": "oLSzqaXx2UQu"
      },
      "outputs": [],
      "source": [
        "from cryptography.hazmat.backends import default_backend\n",
        "from cryptography.hazmat.primitives import serialization\n",
        "from cryptography.hazmat.primitives import hashes\n",
        "import hashlib\n",
        "from cryptography.hazmat.primitives.asymmetric import padding, rsa\n",
        "from cryptography.exceptions import InvalidSignature"
      ]
    },
    {
      "cell_type": "markdown",
      "metadata": {
        "id": "1qtERJL02rm1"
      },
      "source": [
        "# UserClass (Key Management)"
      ]
    },
    {
      "cell_type": "code",
      "execution_count": 2,
      "metadata": {
        "id": "d2we3tvz2oIg"
      },
      "outputs": [],
      "source": [
        "class User:\n",
        "    def __init__(self, name: str):\n",
        "        \"\"\"\n",
        "        Initialize a User object with a name and generate RSA keys.\n",
        "\n",
        "        Args:\n",
        "            name (str): The name of the user. This can be used for identification.\n",
        "\n",
        "        Generates:\n",
        "            - A private RSA key.\n",
        "            - A corresponding public RSA key derived from the private key.\n",
        "        \"\"\"\n",
        "        self.name = name\n",
        "\n",
        "        # Generate a private RSA key with a public exponent of 65537 and a key size of 2048 bits.\n",
        "        self.private_key = rsa.generate_private_key(\n",
        "            public_exponent=65537,\n",
        "            key_size=2048,\n",
        "            backend=default_backend()\n",
        "        )\n",
        "\n",
        "        # Extract the public key from the generated private key.\n",
        "        self.public_key = self.private_key.public_key()\n",
        "\n",
        "    def get_public_key_pem(self) -> str:\n",
        "        \"\"\"\n",
        "        Retrieve the public key in PEM (Privacy-Enhanced Mail) format.\n",
        "\n",
        "        Returns:\n",
        "            str: The public key serialized in PEM format, encoded as a UTF-8 string.\n",
        "        \"\"\"\n",
        "        return self.public_key.public_bytes(\n",
        "            encoding=serialization.Encoding.PEM,\n",
        "            format=serialization.PublicFormat.SubjectPublicKeyInfo\n",
        "        ).decode('utf-8')  # Decode the bytes to a UTF-8 string for readability.\n",
        "\n",
        "    def get_private_key_pem(self) -> str:\n",
        "        \"\"\"\n",
        "        Retrieve the private key in PEM format.\n",
        "\n",
        "        Returns:\n",
        "            str: The private key serialized in PEM format, encoded as a UTF-8 string.\n",
        "\n",
        "        Note:\n",
        "            The private key is not encrypted in this example, meaning it is stored as plain text.\n",
        "            For production systems, consider applying encryption to protect sensitive data.\n",
        "        \"\"\"\n",
        "        return self.private_key.private_bytes(\n",
        "            encoding=serialization.Encoding.PEM,\n",
        "            format=serialization.PrivateFormat.TraditionalOpenSSL,\n",
        "            encryption_algorithm=serialization.NoEncryption()  # No encryption applied to the private key.\n",
        "        ).decode('utf-8')  # Decode the bytes to a UTF-8 string for readability.\n",
        "\n",
        "    def sign_data(self, data: str) -> bytes:\n",
        "        \"\"\"\n",
        "        Sign a piece of data using the private key.\n",
        "\n",
        "        Args:\n",
        "            data (str): The data to be signed. This should be a string.\n",
        "\n",
        "        Returns:\n",
        "            bytes: The generated signature in bytes.\n",
        "\n",
        "        Raises:\n",
        "            ValueError: If the input data is empty or not a string.\n",
        "        \"\"\"\n",
        "        if not isinstance(data, str):\n",
        "            raise ValueError(\"Data must be a string.\")\n",
        "        if not data:\n",
        "            raise ValueError(\"Data cannot be empty.\")\n",
        "\n",
        "        return self.private_key.sign(\n",
        "            data.encode(),  # Convert the data to bytes before signing.\n",
        "            padding.PSS(\n",
        "                mgf=padding.MGF1(hashes.SHA256()),  # Mask Generation Function using SHA256.\n",
        "                salt_length=padding.PSS.MAX_LENGTH  # Use the maximum allowed salt length.\n",
        "            ),\n",
        "            hashes.SHA256()  # Hash function for signing.\n",
        "        )\n"
      ]
    },
    {
      "cell_type": "markdown",
      "metadata": {
        "id": "ZSVGQtOh3uBD"
      },
      "source": [
        "# Testing the use class"
      ]
    },
    {
      "cell_type": "code",
      "execution_count": 3,
      "metadata": {
        "colab": {
          "base_uri": "https://localhost:8080/"
        },
        "id": "y9YoDoYD3SH-",
        "outputId": "d0262417-0e5e-4cf9-fbc0-68c493b012fc"
      },
      "outputs": [
        {
          "name": "stdout",
          "output_type": "stream",
          "text": [
            "Alice's Public Key (PEM):\n",
            "-----BEGIN PUBLIC KEY-----\n",
            "MIIBIjANBgkqhkiG9w0BAQEFAAOCAQ8AMIIBCgKCAQEAxwgFG8W/O4flhrlzo5+F\n",
            "P7O9jy/m+j6qwA3XS494I6E0KXd6kyjw+Pc9AUC4LzhoNFNnMNBHJ+fs5biI+Isz\n",
            "AQIue+RutnKnqlDSrbDP8l9e6QRLHb5+MFM7tT6OYGXoopdisFapm6JQxk1EnNM5\n",
            "rcOib+utEZ/l4RWRfdhgvKZV5lVaES+2stSVNZqiUmYRxBpzx3plzbfO5tTIVaSS\n",
            "kWF7DIq5tM4iBxVcqeNEWIIhDmytQUwrpSvoqCQSrMEgUCoydZjcfq3s/qZuNSnI\n",
            "H9uWo9ZFh95HYGA5xtr3u0Nw+Ip5dIdaaorsVaGNkkP6OuoSUe7wvx7hyMesgC0H\n",
            "EwIDAQAB\n",
            "-----END PUBLIC KEY-----\n",
            "\n",
            "\n",
            "Bob's Public Key (PEM):\n",
            "-----BEGIN PUBLIC KEY-----\n",
            "MIIBIjANBgkqhkiG9w0BAQEFAAOCAQ8AMIIBCgKCAQEAykl090P5OoI0eYItcN24\n",
            "fVlDDdGgglDKUVdcq7sf2TNtQ3D9Vd6hVWNg6T3YVnm/wqn92OFjdrfvarUE4cU0\n",
            "9RH1F8EdwhTtUuXY+XUQ6mGbWI5B7+BGr1L/8Uhqbcgt+3/omCaXKf4lQnyzafS2\n",
            "93kHUAZEU4F2Iunhhl5CNK9Llirl32GOuuRhyDciBrvxnLyIEKUMyQtOp3qPM5fT\n",
            "KDTZdprl5YkuuR0L9Q3EQdOk2ahMlsELYoUzLCaPZmnLd4J8xuXpYiAb8jWSe6kC\n",
            "VFPUpR9OAKNmn8hjSRKiubiVu3/edZeRxQ28SLnPD5OiGnFp1kd9spAVQ8UG3yfP\n",
            "KwIDAQAB\n",
            "-----END PUBLIC KEY-----\n",
            "\n",
            "\n",
            "Alice and Bob have different public keys.\n"
          ]
        }
      ],
      "source": [
        "# Create instances of User\n",
        "alice = User(\"Alice\")\n",
        "bob = User(\"Bob\")\n",
        "\n",
        "# Function to print public keys in a formatted way\n",
        "def print_public_key(user: User):\n",
        "    \"\"\"\n",
        "    Prints the public key of a given user in a formatted manner.\n",
        "\n",
        "    Args:\n",
        "        user (User): The User instance whose public key is to be printed.\n",
        "    \"\"\"\n",
        "    print(f\"{user.name}'s Public Key (PEM):\\n{user.get_public_key_pem()}\\n\")\n",
        "\n",
        "# Print Alice's public key\n",
        "print_public_key(alice)\n",
        "\n",
        "# Print Bob's public key\n",
        "print_public_key(bob)\n",
        "\n",
        "# Compare Alice and Bob's public keys\n",
        "if alice.get_public_key_pem() == bob.get_public_key_pem():\n",
        "    print(\"Alice and Bob have the same public key.\")\n",
        "else:\n",
        "    print(\"Alice and Bob have different public keys.\")\n"
      ]
    },
    {
      "cell_type": "markdown",
      "metadata": {
        "id": "_ZXZ0dp64GMR"
      },
      "source": [
        "# Block Class"
      ]
    },
    {
      "cell_type": "code",
      "execution_count": 4,
      "metadata": {
        "id": "kcngcDev3dXW"
      },
      "outputs": [],
      "source": [
        "class Block:\n",
        "    def __init__(self, block_number, data, previous_hash, creator_name, signature, public_key_pem):\n",
        "        \"\"\"\n",
        "        Initialize a Block object with essential attributes.\n",
        "\n",
        "        Args:\n",
        "            block_number (int): Unique identifier for the block.\n",
        "            data (str): Content or data stored in the block.\n",
        "            previous_hash (str): Hash of the previous block in the chain.\n",
        "            creator_name (str): Name of the user who created the block.\n",
        "            signature (bytes): Digital signature of the block data.\n",
        "            public_key_pem (str): Public key of the block creator in PEM format.\n",
        "\n",
        "        Attributes:\n",
        "            hash (str): SHA-256 hash of the current block, calculated on initialization.\n",
        "        \"\"\"\n",
        "        self.block_number = block_number  # Unique number identifying the block.\n",
        "        self.data = data  # Main content or data stored in the block.\n",
        "        self.previous_hash = previous_hash  # Hash of the previous block in the chain.\n",
        "        self.creator_name = creator_name  # Name of the user who created the block.\n",
        "        self.signature = signature  # Digital signature of the block data.\n",
        "        self.public_key_pem = public_key_pem  # Public key of the block creator in PEM format.\n",
        "\n",
        "        # Calculate the hash of the current block based on its content.\n",
        "        self.hash = self.calculate_hash()\n",
        "\n",
        "    def calculate_hash(self):\n",
        "        \"\"\"\n",
        "        Calculate the SHA-256 hash of the block based on its content.\n",
        "\n",
        "        Returns:\n",
        "            str: The computed hash as a hexadecimal string.\n",
        "        \"\"\"\n",
        "        # Concatenate the block's key attributes into a single string.\n",
        "        to_hash = f'{self.block_number}{self.data}{self.previous_hash}{self.creator_name}'\n",
        "        # Calculate the SHA-256 hash of the concatenated string.\n",
        "        return hashlib.sha256(to_hash.encode()).hexdigest()\n",
        "\n",
        "    def verify_signature(self):\n",
        "        \"\"\"\n",
        "        Verify the digital signature of the block's data using the public key.\n",
        "\n",
        "        Returns:\n",
        "            bool: True if the signature is valid, False otherwise.\n",
        "        \"\"\"\n",
        "        try:\n",
        "            # Load the public key from PEM format.\n",
        "            public_key = serialization.load_pem_public_key(self.public_key_pem.encode())\n",
        "\n",
        "            # Use the public key to verify the signature.\n",
        "            public_key.verify(\n",
        "                self.signature,  # The signature to be verified.\n",
        "                self.data.encode(),  # Original data that was signed (converted to bytes).\n",
        "                padding.PSS(\n",
        "                    mgf=padding.MGF1(hashes.SHA256()),  # Mask Generation Function using SHA256.\n",
        "                    salt_length=padding.PSS.MAX_LENGTH  # Use the maximum allowed salt length.\n",
        "                ),\n",
        "                hashes.SHA256()  # Hashing algorithm used for signature.\n",
        "            )\n",
        "            return True  # If verification succeeds, return True.\n",
        "        except InvalidSignature:\n",
        "            return False  # If verification fails, return False.\n",
        "        except Exception as e:\n",
        "            print(f\"Error verifying signature: {e}\")\n",
        "            return False  # Return False for any other exceptions encountered.\n",
        "\n",
        "\n"
      ]
    },
    {
      "cell_type": "markdown",
      "metadata": {
        "id": "DAnZuyL_7N83"
      },
      "source": [
        "# Testing the block class"
      ]
    },
    {
      "cell_type": "code",
      "execution_count": 5,
      "metadata": {
        "colab": {
          "base_uri": "https://localhost:8080/"
        },
        "id": "02yj-eFM7ReC",
        "outputId": "06d693ce-281b-447d-a905-bc1a9b0fab9c"
      },
      "outputs": [
        {
          "name": "stdout",
          "output_type": "stream",
          "text": [
            "Block 1 Hash: fe99ccc17799ad85294dad33b56912ce46e5ee757613b8f6a72a3d3bb613c3f6\n",
            "Signature is valid\n"
          ]
        }
      ],
      "source": [
        "# Example: Create a block and print its hash\n",
        "# Assuming 'alice' is an instance of the User class\n",
        "block = Block(1, \"First Block Data\", \"0\", alice.name, alice.sign_data(\"First Block Data\"), alice.get_public_key_pem())\n",
        "print(f\"Block 1 Hash: {block.hash}\")\n",
        "# Verify with function\n",
        "if(block.verify_signature()):\n",
        "    print(\"Signature is valid\")\n",
        "else:\n",
        "    print(\"Signature is invalid\")"
      ]
    },
    {
      "cell_type": "markdown",
      "metadata": {
        "id": "Q870vdqc53rv"
      },
      "source": [
        "# Blockchain Class (Managing the Chain)"
      ]
    },
    {
      "cell_type": "code",
      "execution_count": 6,
      "metadata": {
        "id": "ycoSutWIACmk"
      },
      "outputs": [],
      "source": [
        "class Blockchain:\n",
        "    def __init__(self):\n",
        "        genesis_block = Block(0, \"Genesis Block\", \"0\", \"System\", None, None)\n",
        "        self.chain = [genesis_block]\n",
        "\n",
        "# Adding Blocks to the Blockchain:\n",
        "    def add_block(self, data, user):\n",
        "        previous_block = self.chain[-1]\n",
        "        new_block = Block(\n",
        "            block_number=len(self.chain),\n",
        "            data=data,\n",
        "            previous_hash=previous_block.calculate_hash(),\n",
        "            creator_name=user.name,\n",
        "            signature=user.sign_data(data),\n",
        "            public_key_pem=user.get_public_key_pem()\n",
        "        )\n",
        "\n",
        "\n",
        "        #Note: Block can be added if the signature is valid\n",
        "        if new_block.verify_signature():\n",
        "            self.chain.append(new_block)\n",
        "        else:\n",
        "            print(\"Invalid signature. Block not added.\")\n",
        "\n",
        "    # Display the detail of each block to verify the block chain is correctly formed\n",
        "    def print_chain(self):\n",
        "        for block in self.chain:\n",
        "            print(f\"Block Number: {block.block_number}\")\n",
        "            print(f\"Data: {block.data}\")\n",
        "            print(f\"Previous Hash: {block.previous_hash}\")\n",
        "            print(f\"Creator: {block.creator_name}\")\n",
        "            print(f\"Hash: {block.hash}\")\n",
        "            print(f\"Signature: {block.signature}\")\n",
        "            print(f\"Public Key: {block.public_key_pem}\")\n",
        "            print(\"-\" * 20)"
      ]
    },
    {
      "cell_type": "markdown",
      "metadata": {
        "id": "PxpyEneiAM3-"
      },
      "source": [
        "Testing BlockChain Class"
      ]
    },
    {
      "cell_type": "code",
      "execution_count": 7,
      "metadata": {
        "colab": {
          "base_uri": "https://localhost:8080/"
        },
        "id": "jqdOFiEXAHQP",
        "outputId": "55b62d37-53d3-4c60-efef-49fe906acd87"
      },
      "outputs": [
        {
          "name": "stdout",
          "output_type": "stream",
          "text": [
            "Block Number: 0\n",
            "Data: Genesis Block\n",
            "Previous Hash: 0\n",
            "Creator: System\n",
            "Hash: bcc38dbd7d37b444b36c4ad5d342fcd0cc698b83f9e8fa864e639455ed683eab\n",
            "Signature: None\n",
            "Public Key: None\n",
            "--------------------\n",
            "Block Number: 1\n",
            "Data: Block 1 by Alice\n",
            "Previous Hash: bcc38dbd7d37b444b36c4ad5d342fcd0cc698b83f9e8fa864e639455ed683eab\n",
            "Creator: Alice\n",
            "Hash: 08b4d9c8b7f1d4c1fc5060d39c130ed5e7b592cdb5f6b5d4c465069e7f4ee676\n",
            "Signature: b'\\x9a\\xe6\\xf3\\x9c&`\\xc1c\\xa6\\x16\\xf5/\\xcaf\\xdc.=P\\xcf\\xfc\\xcc\\xc2L]\\x9b\\xae<\\x13\\x16\\x0b\\xb6\\xbb\\x96\\xd4\\xd8R\\x94W\\xb4\\xedt\\xce\\xdc\\x9a\\x89L:\\x96\\xce(69G\\xfb\\xe7*\\xff\\x02\\xe2@`\\x07\\xe6\\x96\\x9a\\xaa+\\xb2\\x08\\x89c1\\x17\\x9f\\xe7\\x1a\\x18\\xad:\\xda[\\xf1I!g$\\xd3_\\x8b\\xd84p*\\xa4\\xee\\x08\\x14\\xa2c\\xec\\x19\\xb6\\xa0\\xc9\\xfe||\\x08\\xbb^\\xa9\\x1fsB*\\xc9\\xbfY\\xdc\\x97\\x02\\xcc\\xabL\\xc7\\xe02z\\x97\\xf4\\xd45\\xce\\xa2\\xec\\xe0\\x03\\x00X\\xc2#\\x18\\xf2\\x1f\\x1b\\xc2\\xcb\\x8dD\\x1c\\x9cE\\x7fp\\xc9\\xb0\\x07\\x8e\\xc0\\x13\\x91p\\xe95\\x16c\\xe4\\x93\\x01\\xca\\x1a[\\x94B.f3\\x98\\xaf~\\xbb\\xef\\xf1.{\\xc3\\x1f\\xc39\\x9e\\xe3\\xd3\\xaa\\xc5\\xa1\\xb2\\xf2\\xa4\\x98q\\xf2\\xac\\x9c\\x8bx\\xac\\xa3\\xa3\\xc6}\\x85Qx\\xfa\\xea\\x7f\\xce\\x02\\xff\\xa0!v\\xccmz\\x13\\x03\\x1b\\xf4i~f\\xdfD\\x8e6\\xe4F\\xf8\\x1f\\xe1b\\tA\\x81z\\x04I\\xe0\\x16\\xf3b\\x03~\\xeb\\xa2'\n",
            "Public Key: -----BEGIN PUBLIC KEY-----\n",
            "MIIBIjANBgkqhkiG9w0BAQEFAAOCAQ8AMIIBCgKCAQEAxwgFG8W/O4flhrlzo5+F\n",
            "P7O9jy/m+j6qwA3XS494I6E0KXd6kyjw+Pc9AUC4LzhoNFNnMNBHJ+fs5biI+Isz\n",
            "AQIue+RutnKnqlDSrbDP8l9e6QRLHb5+MFM7tT6OYGXoopdisFapm6JQxk1EnNM5\n",
            "rcOib+utEZ/l4RWRfdhgvKZV5lVaES+2stSVNZqiUmYRxBpzx3plzbfO5tTIVaSS\n",
            "kWF7DIq5tM4iBxVcqeNEWIIhDmytQUwrpSvoqCQSrMEgUCoydZjcfq3s/qZuNSnI\n",
            "H9uWo9ZFh95HYGA5xtr3u0Nw+Ip5dIdaaorsVaGNkkP6OuoSUe7wvx7hyMesgC0H\n",
            "EwIDAQAB\n",
            "-----END PUBLIC KEY-----\n",
            "\n",
            "--------------------\n",
            "Block Number: 2\n",
            "Data: Block 2 by Bob\n",
            "Previous Hash: 08b4d9c8b7f1d4c1fc5060d39c130ed5e7b592cdb5f6b5d4c465069e7f4ee676\n",
            "Creator: Bob\n",
            "Hash: 6b652967e8e95408c07dd56671d47f9ae484cc270e5a616926d8138b8d690429\n",
            "Signature: b',\\xb8\\xd2\\xf5zVG\\\\\\xdc|pH\\xd4\\xd0q\\x18U\\x85\\x8d\\xce\\x01,\\xbc\\x1f\\xa9\\xba\\xfb\\x9e\"O\\xaaE\\xfe\\xacTu\\x1e\\x9a\\xe7D\\x05\\xbe\\xcc>\\x17\\x01i\\x86\\x90)\\x81\\x89\\xb5\\x97\\xd7\\xfd\\xb4\\xb5\\xb8*\\x1f\\xebD\\xdeM\\xbc\\xef\\x88\\x12a\\xdd\\x92\\x18\\x15>\\xda[v\\xea\\xaf\\xe1J/@T\\x93\\xc5\\xe2<\\xca\\x06\\xe4U\\xbfF\\x00\\x02]\\xb5\\x05\\x8d6\\xcd2@2\\xe6\\xa7\\x08\\xc7\\xf5$\\x9c\\xd0&wq9K r\\xa9\\xe1\\x8em\\x93yq\\xf7\\xb0\\xbd\\x90\\xbc@\\xd3\\xdb^!\\xf4\\x01g\\xfc\\x00\\xd5~\\xb0X\\xfe\\xfe\\xef\\xdd\\x19\\xc0\\xd7\\x7f\\x08\\'\\\\\\xd5>\\xca\\xf9\\xd6R\\xdbd\\xa6o#\\xb2\"\\xe2|<y\\xaa\\'\\xe5\\x92$\\xa2\\x7fw\\x12 \\xcb\\x97\\xf9\\x18*\\x8bL\\xbcru`\\xebx7\\xf3\\xa6S\\x1d\\x18\\xe3\\xf7\\xdd\\x8cm\\x87\\xa9\\xd9f\\xc2a\\x18\\x05}\\xc8\\xa1\\xc9\\xe0\\xeb\\xa0\\x81\\x96`z\\x0f9\\x80\\xa3\\xf9\\xb6\\x85\\xc1\\xdef%~p\\xeb\\t\\x124\\x87P\\x0b/\\xa3\\x0c_\\xbc\\x04\\xd1\\xf1'\n",
            "Public Key: -----BEGIN PUBLIC KEY-----\n",
            "MIIBIjANBgkqhkiG9w0BAQEFAAOCAQ8AMIIBCgKCAQEAykl090P5OoI0eYItcN24\n",
            "fVlDDdGgglDKUVdcq7sf2TNtQ3D9Vd6hVWNg6T3YVnm/wqn92OFjdrfvarUE4cU0\n",
            "9RH1F8EdwhTtUuXY+XUQ6mGbWI5B7+BGr1L/8Uhqbcgt+3/omCaXKf4lQnyzafS2\n",
            "93kHUAZEU4F2Iunhhl5CNK9Llirl32GOuuRhyDciBrvxnLyIEKUMyQtOp3qPM5fT\n",
            "KDTZdprl5YkuuR0L9Q3EQdOk2ahMlsELYoUzLCaPZmnLd4J8xuXpYiAb8jWSe6kC\n",
            "VFPUpR9OAKNmn8hjSRKiubiVu3/edZeRxQ28SLnPD5OiGnFp1kd9spAVQ8UG3yfP\n",
            "KwIDAQAB\n",
            "-----END PUBLIC KEY-----\n",
            "\n",
            "--------------------\n",
            "Block Number: 3\n",
            "Data: Block 3 by Alice\n",
            "Previous Hash: 6b652967e8e95408c07dd56671d47f9ae484cc270e5a616926d8138b8d690429\n",
            "Creator: Alice\n",
            "Hash: 6a8efa5b9c3aa20e7218a6841c9dd8e42a89eae0504d08891f1f321f5b051519\n",
            "Signature: b\"\\x03Q#\\xbf\\x19\\x95\\xeaY?\\xa9\\xec\\x1d\\xfb:\\xa6HB\\x9c7\\xcd\\xb6\\x94Z\\xf7\\xf8V\\xcb@m\\xeb:\\xb3\\xcc\\x92>\\xa7\\xd6A\\x987\\x95\\xbb\\xe7\\x8fj#~\\x06\\xcc\\xb0\\xe4\\xea\\xf2\\xe2\\xa1\\xda)\\x024\\x90\\x9f\\xbe\\x9c\\xa9\\xb3Rh\\r\\xd0W*Fk\\xe3\\xe5\\xe8\\xb8\\xf8\\x87v8N\\x87W\\xfa\\x9ez\\xb1H\\x90\\xca\\xb2\\xbb3\\xbb\\x99\\xe2\\xb7//\\xc0\\xfa\\x1eRW\\x0caj`\\x9b\\x19\\x96\\xd8m]iM7\\x12y\\x00'\\xc3\\xea\\xb2'\\xb4\\x97\\xbc\\xb5\\x97\\xe0+\\xd7\\x97\\x04\\x8e-\\xb7\\xf5@\\x14r\\xdeb\\xc6q/\\xf3\\x10\\xa4\\xdcBM\\x19\\x9a\\x80\\x80n\\xf3\\xbe\\xb7\\xd8:G9\\xdf\\xac\\xed\\x1cG\\xeb\\xe5+\\xef\\x914W\\xae\\x89\\x1e\\x8dV\\xcbJ\\xb7d\\xc6\\x9d\\xffM\\xd7\\xe6\\xef\\xc4-5\\xcf@Da\\x0eH\\xd2\\xa0_\\xed)\\xf4\\x9a\\x89\\x0e\\xd1\\xa0\\x12\\x82f\\xf0\\xdcD\\xe8\\xf9K\\xc9\\x1e\\x02\\xd8\\n\\xca\\xcd\\xda\\xf0\\xfd\\xcb\\xcc\\x8d`t\\xe4\\xc5\\xbe\\x1e\\xce%\\x96<=h\\x85\\x86\\xbb+\\xb0\\x01\\xa0\\xcc\"\n",
            "Public Key: -----BEGIN PUBLIC KEY-----\n",
            "MIIBIjANBgkqhkiG9w0BAQEFAAOCAQ8AMIIBCgKCAQEAxwgFG8W/O4flhrlzo5+F\n",
            "P7O9jy/m+j6qwA3XS494I6E0KXd6kyjw+Pc9AUC4LzhoNFNnMNBHJ+fs5biI+Isz\n",
            "AQIue+RutnKnqlDSrbDP8l9e6QRLHb5+MFM7tT6OYGXoopdisFapm6JQxk1EnNM5\n",
            "rcOib+utEZ/l4RWRfdhgvKZV5lVaES+2stSVNZqiUmYRxBpzx3plzbfO5tTIVaSS\n",
            "kWF7DIq5tM4iBxVcqeNEWIIhDmytQUwrpSvoqCQSrMEgUCoydZjcfq3s/qZuNSnI\n",
            "H9uWo9ZFh95HYGA5xtr3u0Nw+Ip5dIdaaorsVaGNkkP6OuoSUe7wvx7hyMesgC0H\n",
            "EwIDAQAB\n",
            "-----END PUBLIC KEY-----\n",
            "\n",
            "--------------------\n"
          ]
        }
      ],
      "source": [
        "# Create a blockchain\n",
        "blockchain = Blockchain()\n",
        "\n",
        "# Add three blocks\n",
        "blockchain.add_block(\"Block 1 by Alice\", alice)\n",
        "blockchain.add_block(\"Block 2 by Bob\", bob)\n",
        "blockchain.add_block(\"Block 3 by Alice\", alice)\n",
        "\n",
        "# Print the blockchain details\n",
        "blockchain.print_chain()"
      ]
    }
  ],
  "metadata": {
    "colab": {
      "provenance": []
    },
    "kernelspec": {
      "display_name": "cadtml",
      "language": "python",
      "name": "python3"
    },
    "language_info": {
      "codemirror_mode": {
        "name": "ipython",
        "version": 3
      },
      "file_extension": ".py",
      "mimetype": "text/x-python",
      "name": "python",
      "nbconvert_exporter": "python",
      "pygments_lexer": "ipython3",
      "version": "3.10.14"
    }
  },
  "nbformat": 4,
  "nbformat_minor": 0
}
